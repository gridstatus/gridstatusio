{
 "cells": [
  {
   "cell_type": "markdown",
   "metadata": {},
   "source": [
    "## Pull LMP with Polars\n",
    "\n",
    "Polars is a high-performance DataFrame library for Rust and Python that is optimized for performance and memory usage. It has a similar API to Pandas, but is much faster, contains less legacy cruft, and is quickly growing to become the DataFrame library of choice for many Python users. It has a syntax that closely mirrors SQL, which makes it easy to use for those who are familiar with SQL (the forever dominant data manipulation language).\n",
    "\n",
    "In this notebook, we will use the GridStatus.io API to pull LMP data and store it in a Polars DataFrame and export to CSV and parquet files.\n",
    "\n",
    "**NOTE:** This assumes you have installed `gridstatusio` and `polars` libraries. You can do so by simply running `poetry install` from the root of this repository."
   ]
  },
  {
   "cell_type": "code",
   "execution_count": 2,
   "metadata": {},
   "outputs": [
    {
     "ename": "Exception",
     "evalue": "Error 404: {\"detail\":\"Not Found\"}",
     "output_type": "error",
     "traceback": [
      "\u001b[0;31m---------------------------------------------------------------------------\u001b[0m",
      "\u001b[0;31mException\u001b[0m                                 Traceback (most recent call last)",
      "Cell \u001b[0;32mIn[2], line 11\u001b[0m\n\u001b[1;32m      8\u001b[0m client \u001b[38;5;241m=\u001b[39m gridstatusio\u001b[38;5;241m.\u001b[39mGridStatusClient(api_key\u001b[38;5;241m=\u001b[39mos\u001b[38;5;241m.\u001b[39mgetenv(\u001b[38;5;124m\"\u001b[39m\u001b[38;5;124mGRIDSTATUS_API_KEY\u001b[39m\u001b[38;5;124m\"\u001b[39m))\n\u001b[1;32m     10\u001b[0m \u001b[38;5;66;03m# Pull LMP data for California ISO (CAISO)\u001b[39;00m\n\u001b[0;32m---> 11\u001b[0m lmp_data \u001b[38;5;241m=\u001b[39m \u001b[43mclient\u001b[49m\u001b[38;5;241;43m.\u001b[39;49m\u001b[43mget\u001b[49m\u001b[43m(\u001b[49m\n\u001b[1;32m     12\u001b[0m \u001b[43m    \u001b[49m\u001b[43murl\u001b[49m\u001b[38;5;241;43m=\u001b[39;49m\u001b[38;5;124;43m\"\u001b[39;49m\u001b[38;5;124;43mhttps://api.gridstatus.io/v1/lmp\u001b[39;49m\u001b[38;5;124;43m\"\u001b[39;49m\u001b[43m,\u001b[49m\n\u001b[1;32m     13\u001b[0m \u001b[43m    \u001b[49m\u001b[43mparams\u001b[49m\u001b[38;5;241;43m=\u001b[39;49m\u001b[43m{\u001b[49m\u001b[38;5;124;43m\"\u001b[39;49m\u001b[38;5;124;43mba\u001b[39;49m\u001b[38;5;124;43m\"\u001b[39;49m\u001b[43m:\u001b[49m\u001b[43m \u001b[49m\u001b[38;5;124;43m\"\u001b[39;49m\u001b[38;5;124;43mCAISO\u001b[39;49m\u001b[38;5;124;43m\"\u001b[39;49m\u001b[43m}\u001b[49m\u001b[43m,\u001b[49m\n\u001b[1;32m     14\u001b[0m \u001b[43m    \u001b[49m\u001b[43mreturn_raw_response_json\u001b[49m\u001b[38;5;241;43m=\u001b[39;49m\u001b[38;5;28;43;01mTrue\u001b[39;49;00m\u001b[43m,\u001b[49m\n\u001b[1;32m     15\u001b[0m \u001b[43m)\u001b[49m\n\u001b[1;32m     17\u001b[0m \u001b[38;5;66;03m# Convert the raw JSON response to a Polars DataFrame\u001b[39;00m\n\u001b[1;32m     18\u001b[0m lmp_df \u001b[38;5;241m=\u001b[39m pl\u001b[38;5;241m.\u001b[39mfrom_records(lmp_data[\u001b[38;5;124m\"\u001b[39m\u001b[38;5;124mdata\u001b[39m\u001b[38;5;124m\"\u001b[39m])\n",
      "File \u001b[0;32m~/GitHub/gridstatusio/gridstatusio/gs_client.py:120\u001b[0m, in \u001b[0;36mGridStatusClient.get\u001b[0;34m(self, url, params, verbose, return_raw_response_json)\u001b[0m\n\u001b[1;32m    118\u001b[0m         time\u001b[38;5;241m.\u001b[39msleep(delay)\n\u001b[1;32m    119\u001b[0m     \u001b[38;5;28;01melse\u001b[39;00m:\n\u001b[0;32m--> 120\u001b[0m         \u001b[38;5;28;01mraise\u001b[39;00m \u001b[38;5;167;01mException\u001b[39;00m(\u001b[38;5;124mf\u001b[39m\u001b[38;5;124m\"\u001b[39m\u001b[38;5;124mError \u001b[39m\u001b[38;5;132;01m{\u001b[39;00mresponse\u001b[38;5;241m.\u001b[39mstatus_code\u001b[38;5;132;01m}\u001b[39;00m\u001b[38;5;124m: \u001b[39m\u001b[38;5;132;01m{\u001b[39;00mresponse\u001b[38;5;241m.\u001b[39mtext\u001b[38;5;132;01m}\u001b[39;00m\u001b[38;5;124m\"\u001b[39m)\n\u001b[1;32m    122\u001b[0m \u001b[38;5;28;01mif\u001b[39;00m return_raw_response_json:\n\u001b[1;32m    123\u001b[0m     \u001b[38;5;28;01mreturn\u001b[39;00m response\u001b[38;5;241m.\u001b[39mjson()\n",
      "\u001b[0;31mException\u001b[0m: Error 404: {\"detail\":\"Not Found\"}"
     ]
    }
   ],
   "source": [
    "# First import the libraries we need and initialize the GridStatus.io API client. This assumes you have set the `GRIDSTATUS_API_KEY` environment variable.\n",
    "import gridstatusio\n",
    "import os\n",
    "import polars as pl\n",
    "from pprint import pprint\n",
    "\n",
    "# Initialize the GridStatus.io API client\n",
    "client = gridstatusio.GridStatusClient(api_key=os.getenv(\"GRIDSTATUS_API_KEY\"))\n",
    "\n",
    "# Pull LMP data for California ISO (CAISO)\n",
    "lmp_data = client.get(\n",
    "    url=\"https://api.gridstatus.io/v1/\",\n",
    "    params={\"ba\": \"CAISO\"},\n",
    "    return_raw_response_json=True,\n",
    ")\n",
    "\n",
    "# Convert the raw JSON response to a Polars DataFrame\n",
    "lmp_df = pl.from_records(lmp_data[\"data\"])\n",
    "\n",
    "pprint(lmp_df)"
   ]
  }
 ],
 "metadata": {
  "kernelspec": {
   "display_name": ".gridstatusio-venv",
   "language": "python",
   "name": "python3"
  },
  "language_info": {
   "codemirror_mode": {
    "name": "ipython",
    "version": 3
   },
   "file_extension": ".py",
   "mimetype": "text/x-python",
   "name": "python",
   "nbconvert_exporter": "python",
   "pygments_lexer": "ipython3",
   "version": "3.12.1"
  }
 },
 "nbformat": 4,
 "nbformat_minor": 2
}
