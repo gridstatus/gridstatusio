{
 "cells": [
  {
   "cell_type": "code",
   "execution_count": 1,
   "id": "4c4552bb",
   "metadata": {},
   "outputs": [],
   "source": [
    "from gridstatusio import GridStatusClient\n",
    "import pandas as pd\n",
    "import os\n",
    "\n",
    "os.environ[\"GRIDSTATUS_API_KEY\"] = \"API KEY HERE\"\n",
    "\n",
    "client = GridStatusClient()"
   ]
  },
  {
   "cell_type": "markdown",
   "id": "8f460143",
   "metadata": {},
   "source": [
    "<b>Week of ERCOT Day-Ahead Prices Everywhere</b>"
   ]
  },
  {
   "cell_type": "code",
   "execution_count": 9,
   "id": "51fd034a",
   "metadata": {},
   "outputs": [
    {
     "name": "stdout",
     "output_type": "stream",
     "text": [
      "Fetching Page 1...Done in 2.63 seconds. \n",
      "Fetching Page 2...Done in 1.05 seconds. Total time: 3.68s. Avg per page: 1.84s\n",
      "\n",
      "Total number of rows: 150528\n"
     ]
    }
   ],
   "source": [
    "ercotDA = client.get_dataset(\n",
    "    dataset = 'ercot_spp_day_ahead_hourly',\n",
    "    start = \"2024-03-18\", \n",
    "    end = \"2024-03-25\", \n",
    "    tz = \"US/Central\")"
   ]
  },
  {
   "cell_type": "markdown",
   "id": "826a6bfa",
   "metadata": {},
   "source": [
    "<b>Week of ERCOT Day-Ahead Prices For West Hub</b>"
   ]
  },
  {
   "cell_type": "code",
   "execution_count": 10,
   "id": "f52b2f18",
   "metadata": {},
   "outputs": [
    {
     "name": "stdout",
     "output_type": "stream",
     "text": [
      "Fetching Page 1...Done in 0.19 seconds. \n",
      "\n",
      "Total number of rows: 168\n"
     ]
    }
   ],
   "source": [
    "ercotDA = client.get_dataset(\n",
    "    dataset = 'ercot_spp_day_ahead_hourly',\n",
    "    start = \"2024-03-18\", \n",
    "    end = \"2024-03-25\", \n",
    "    tz = \"US/Central\",\n",
    "    filter_column = 'location',\n",
    "    filter_value = 'HB_WEST')"
   ]
  },
  {
   "cell_type": "markdown",
   "id": "29741317",
   "metadata": {},
   "source": [
    "<b>Hour of ERCOT Real-Time Prices At All Buses</b>"
   ]
  },
  {
   "cell_type": "code",
   "execution_count": 13,
   "id": "5824adee",
   "metadata": {},
   "outputs": [
    {
     "name": "stdout",
     "output_type": "stream",
     "text": [
      "Fetching Page 1...Done in 1.52 seconds. \n",
      "Fetching Page 2...Done in 1.47 seconds. Total time: 2.98s. Avg per page: 1.49s\n",
      "Fetching Page 3...Done in 0.22 seconds. Total time: 3.2s. Avg per page: 1.07s\n",
      "\n",
      "Total number of rows: 205476\n"
     ]
    }
   ],
   "source": [
    "ercotRTALL = client.get_dataset(\n",
    "    dataset = 'ercot_lmp_by_bus',\n",
    "    start = \"2024-03-24T012:00\", \n",
    "    end = \"2024-03-24T13:00\", \n",
    "    tz = \"US/Central\")"
   ]
  },
  {
   "cell_type": "markdown",
   "id": "85e61a4d",
   "metadata": {},
   "source": [
    "<b>Hour of ERCOT Real-Time Prices At Houston Hub</b>"
   ]
  },
  {
   "cell_type": "code",
   "execution_count": 14,
   "id": "7788e905",
   "metadata": {},
   "outputs": [
    {
     "name": "stdout",
     "output_type": "stream",
     "text": [
      "Fetching Page 1...Done in 0.1 seconds. \n",
      "\n",
      "Total number of rows: 12\n"
     ]
    }
   ],
   "source": [
    "ercotRTHouston = client.get_dataset(\n",
    "    dataset = 'ercot_lmp_by_settlement_point',\n",
    "    start = \"2024-03-24T012:00\", \n",
    "    end = \"2024-03-24T13:00\", \n",
    "    tz = \"US/Central\",\n",
    "    filter_column = 'location',\n",
    "    filter_value = 'HB_HOUSTON')"
   ]
  },
  {
   "cell_type": "markdown",
   "id": "dba2ef0c",
   "metadata": {},
   "source": [
    "<b>2 Hours of ERCOT Real-Time Prices At A Specific Settlement Point, Resampled</b>"
   ]
  },
  {
   "cell_type": "code",
   "execution_count": 15,
   "id": "01ae6e3e",
   "metadata": {},
   "outputs": [
    {
     "name": "stdout",
     "output_type": "stream",
     "text": [
      "Fetching Page 1...Done in 0.14 seconds. \n",
      "\n",
      "Total number of rows: 2\n"
     ]
    }
   ],
   "source": [
    "dfRT = client.get_dataset(\n",
    "    dataset = 'ercot_lmp_by_settlement_point',\n",
    "    start = \"2024-03-24T012:00\", \n",
    "    end = \"2024-03-24T14:00\",\n",
    "    tz = \"US/Central\",\n",
    "    filter_column = 'location',\n",
    "    filter_value = 'RSK_RN',\n",
    "    resample = '1 hour')"
   ]
  },
  {
   "cell_type": "markdown",
   "id": "db12732f",
   "metadata": {},
   "source": [
    "<b>Hour of CAISO Real-Time 5-minute Prices For NP15</b>"
   ]
  },
  {
   "cell_type": "code",
   "execution_count": 16,
   "id": "3f62f932",
   "metadata": {},
   "outputs": [
    {
     "name": "stdout",
     "output_type": "stream",
     "text": [
      "Fetching Page 1...Done in 0.14 seconds. \n",
      "\n",
      "Total number of rows: 12\n"
     ]
    }
   ],
   "source": [
    "caisoRT5 = client.get_dataset(\n",
    "    dataset = 'caiso_lmp_real_time_5_min',\n",
    "    start = \"2024-03-24T012:00\", \n",
    "    end = \"2024-03-24T13:00\",\n",
    "    tz = \"US/Pacific\",\n",
    "    filter_column = 'location',\n",
    "    filter_value = 'TH_NP15_GEN-APND')"
   ]
  },
  {
   "cell_type": "markdown",
   "id": "10f32f1c",
   "metadata": {},
   "source": [
    "<b>Hour of CAISO Real-Time 15-minute Prices For NP15</b>"
   ]
  },
  {
   "cell_type": "code",
   "execution_count": 17,
   "id": "2a657fad",
   "metadata": {},
   "outputs": [
    {
     "name": "stdout",
     "output_type": "stream",
     "text": [
      "Fetching Page 1...Done in 0.13 seconds. \n",
      "\n",
      "Total number of rows: 4\n"
     ]
    }
   ],
   "source": [
    "caisoRT15 = client.get_dataset(\n",
    "    dataset = 'caiso_lmp_real_time_15_min',\n",
    "    start = \"2024-03-24T012:00\", \n",
    "    end = \"2024-03-24T13:00\",\n",
    "    tz = \"US/Pacific\",\n",
    "    filter_column = 'location',\n",
    "    filter_value = 'TH_NP15_GEN-APND')"
   ]
  },
  {
   "cell_type": "markdown",
   "id": "c9dbeede",
   "metadata": {},
   "source": [
    "<b>Day of CAISO Day-Ahead Prices For NP15</b>"
   ]
  },
  {
   "cell_type": "code",
   "execution_count": 18,
   "id": "ec766eb9",
   "metadata": {},
   "outputs": [
    {
     "name": "stdout",
     "output_type": "stream",
     "text": [
      "Fetching Page 1...Done in 0.15 seconds. \n",
      "\n",
      "Total number of rows: 24\n"
     ]
    }
   ],
   "source": [
    "caisoDA = client.get_dataset(\n",
    "    dataset = 'caiso_lmp_day_ahead_hourly',\n",
    "    start = \"2024-03-24\", \n",
    "    end = \"2024-03-25\",\n",
    "    tz = \"US/Pacific\",\n",
    "    filter_column = 'location',\n",
    "    filter_value = 'TH_NP15_GEN-APND')"
   ]
  },
  {
   "cell_type": "markdown",
   "id": "c707b8dc",
   "metadata": {},
   "source": [
    "<b>Day of NYISO Day-Ahead Prices For All Zones</b>"
   ]
  },
  {
   "cell_type": "code",
   "execution_count": 19,
   "id": "c1da7b2b",
   "metadata": {},
   "outputs": [
    {
     "name": "stdout",
     "output_type": "stream",
     "text": [
      "Fetching Page 1...Done in 0.19 seconds. \n",
      "\n",
      "Total number of rows: 360\n"
     ]
    }
   ],
   "source": [
    "nyisoDA = client.get_dataset(\n",
    "    dataset = 'nyiso_lmp_day_ahead_hourly',\n",
    "    start = \"2024-03-24\", \n",
    "    end = \"2024-03-25\",\n",
    "    tz = \"US/Eastern\",\n",
    "    filter_column = 'location_type',\n",
    "    filter_value = 'Zone')"
   ]
  },
  {
   "cell_type": "code",
   "execution_count": null,
   "id": "e8f7b60b",
   "metadata": {},
   "outputs": [],
   "source": []
  }
 ],
 "metadata": {
  "kernelspec": {
   "display_name": "Python 3",
   "language": "python",
   "name": "python3"
  },
  "language_info": {
   "codemirror_mode": {
    "name": "ipython",
    "version": 3
   },
   "file_extension": ".py",
   "mimetype": "text/x-python",
   "name": "python",
   "nbconvert_exporter": "python",
   "pygments_lexer": "ipython3",
   "version": "3.8.8"
  }
 },
 "nbformat": 4,
 "nbformat_minor": 5
}
